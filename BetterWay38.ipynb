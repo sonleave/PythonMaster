{
 "cells": [
  {
   "cell_type": "markdown",
   "id": "compliant-chinese",
   "metadata": {},
   "source": [
    "### 38. 간단한 인터페이스의 경우 클래스 대신 함수를 받아라"
   ]
  },
  {
   "cell_type": "markdown",
   "id": "unknown-assist",
   "metadata": {},
   "source": [
    "- hook을 함수를 통해 가능 (일급시민 객체이므로)"
   ]
  },
  {
   "cell_type": "markdown",
   "id": "cubic-antibody",
   "metadata": {},
   "source": [
    "- 상태를 나타내고 싶을 때(__ __call__ __메서드가 있는 클래스를 사용)"
   ]
  },
  {
   "cell_type": "markdown",
   "id": "smooth-group",
   "metadata": {},
   "source": [
    "### hook"
   ]
  },
  {
   "cell_type": "markdown",
   "id": "durable-expression",
   "metadata": {},
   "source": [
    "- 프로그래머가 사용자 정의 프로그래밍을 삽입할 수 있도록 패키지 코드로 제공되는 장소이자 인터페이스이다.\n",
    "- 파이썬에서 함수는 일급시민객체 => hook으로 사용가능\n"
   ]
  },
  {
   "cell_type": "markdown",
   "id": "tender-clark",
   "metadata": {},
   "source": [
    "### 일급시민"
   ]
  },
  {
   "cell_type": "markdown",
   "id": "closed-testing",
   "metadata": {},
   "source": [
    "- 모든 일급 객체는 함수의 실질적인 매개변수가 될 수 있다.\n",
    "- 모든 일급 객체는 함수의 반환값이 될 수 있다.\n",
    "- 모든 일급 객체는 할당의 대상이 될 수 있다.\n",
    "- 모든 일급 객체는 비교 연산(==, equal)을 적용할 수 있다."
   ]
  },
  {
   "cell_type": "markdown",
   "id": "opponent-patio",
   "metadata": {},
   "source": [
    "1. 함수를 훅으로 사용한 예제"
   ]
  },
  {
   "cell_type": "code",
   "execution_count": 3,
   "id": "macro-holder",
   "metadata": {},
   "outputs": [],
   "source": [
    "def log_missing():\n",
    "    print('키 추가됨')\n",
    "    return 0"
   ]
  },
  {
   "cell_type": "code",
   "execution_count": 4,
   "id": "historical-contributor",
   "metadata": {},
   "outputs": [],
   "source": [
    "from collections import defaultdict"
   ]
  },
  {
   "cell_type": "code",
   "execution_count": 5,
   "id": "golden-receipt",
   "metadata": {},
   "outputs": [],
   "source": [
    "current = {'초록' : 12, '파랑' : 3}\n",
    "increments = [('빨강', 5),\n",
    "              ('파랑', 17),\n",
    "              ('주황', 9),]"
   ]
  },
  {
   "cell_type": "code",
   "execution_count": 6,
   "id": "aquatic-legislation",
   "metadata": {},
   "outputs": [
    {
     "name": "stdout",
     "output_type": "stream",
     "text": [
      "이전: {'초록': 12, '파랑': 3}\n",
      "키 추가됨\n",
      "키 추가됨\n",
      "이후: {'초록': 12, '파랑': 20, '빨강': 5, '주황': 9}\n"
     ]
    }
   ],
   "source": [
    "result = defaultdict(log_missing, current)\n",
    "print('이전:', dict(result))\n",
    "for key, amount in increments:\n",
    "    result[key] += amount\n",
    "print('이후:', dict(result))"
   ]
  },
  {
   "cell_type": "markdown",
   "id": "compliant-probability",
   "metadata": {},
   "source": [
    "상태를 나타내고 싶을 때"
   ]
  },
  {
   "cell_type": "markdown",
   "id": "chronic-prerequisite",
   "metadata": {},
   "source": [
    "1. 클로저 함수 이용"
   ]
  },
  {
   "cell_type": "code",
   "execution_count": 7,
   "id": "emotional-share",
   "metadata": {},
   "outputs": [],
   "source": [
    "def increment_with_report(current, increments):\n",
    "    added_count = 0\n",
    "    \n",
    "    def missing():\n",
    "        nonlocal added_count\n",
    "        added_count += 1\n",
    "        return 0\n",
    "    \n",
    "    result = defaultdict(missing, current)\n",
    "    for key, amount in increments:\n",
    "        result[key] += amount\n",
    "        \n",
    "    return result, added_count"
   ]
  },
  {
   "cell_type": "code",
   "execution_count": 8,
   "id": "complicated-problem",
   "metadata": {},
   "outputs": [],
   "source": [
    "result, count = increment_with_report(current, increments)\n",
    "assert count == 2"
   ]
  },
  {
   "cell_type": "markdown",
   "id": "opponent-bruce",
   "metadata": {},
   "source": [
    "2. 클래스 이용 (callable) 사용"
   ]
  },
  {
   "cell_type": "code",
   "execution_count": 9,
   "id": "determined-kinase",
   "metadata": {},
   "outputs": [],
   "source": [
    "class BetterCountMissing:\n",
    "    def __init__(self):\n",
    "        self.added = 0\n",
    "    \n",
    "    def __call__(self):\n",
    "        self.added += 1\n",
    "        return 0"
   ]
  },
  {
   "cell_type": "code",
   "execution_count": 10,
   "id": "authorized-demonstration",
   "metadata": {},
   "outputs": [],
   "source": [
    "counter = BetterCountMissing()\n",
    "assert counter() == 0"
   ]
  },
  {
   "cell_type": "code",
   "execution_count": 11,
   "id": "descending-webmaster",
   "metadata": {},
   "outputs": [],
   "source": [
    "result = defaultdict(counter, current)\n",
    "for key, amount in increments:\n",
    "        result[key] += amount\n",
    "assert count == 2"
   ]
  }
 ],
 "metadata": {
  "kernelspec": {
   "display_name": "Python 3",
   "language": "python",
   "name": "python3"
  },
  "language_info": {
   "codemirror_mode": {
    "name": "ipython",
    "version": 3
   },
   "file_extension": ".py",
   "mimetype": "text/x-python",
   "name": "python",
   "nbconvert_exporter": "python",
   "pygments_lexer": "ipython3",
   "version": "3.7.9"
  }
 },
 "nbformat": 4,
 "nbformat_minor": 5
}
